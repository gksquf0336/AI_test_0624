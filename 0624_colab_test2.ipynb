{
  "nbformat": 4,
  "nbformat_minor": 0,
  "metadata": {
    "colab": {
      "provenance": [],
      "authorship_tag": "ABX9TyP+4f0FjA7cTMyFAEq0e/VP",
      "include_colab_link": true
    },
    "kernelspec": {
      "name": "python3",
      "display_name": "Python 3"
    },
    "language_info": {
      "name": "python"
    }
  },
  "cells": [
    {
      "cell_type": "markdown",
      "metadata": {
        "id": "view-in-github",
        "colab_type": "text"
      },
      "source": [
        "<a href=\"https://colab.research.google.com/github/gksquf0336/AI_test_0624/blob/main/0624_colab_test2.ipynb\" target=\"_parent\"><img src=\"https://colab.research.google.com/assets/colab-badge.svg\" alt=\"Open In Colab\"/></a>"
      ]
    },
    {
      "cell_type": "code",
      "execution_count": 2,
      "metadata": {
        "colab": {
          "base_uri": "https://localhost:8080/"
        },
        "id": "oXm562N6zxP1",
        "outputId": "b28543e3-1b00-469b-bbe5-26c17d558f15"
      },
      "outputs": [
        {
          "output_type": "stream",
          "name": "stdout",
          "text": [
            "1번째 사람의 키(cm)를 입력하세요: 180\n",
            "2번째 사람의 키(cm)를 입력하세요: 175\n",
            "3번째 사람의 키(cm)를 입력하세요: 165\n",
            "4번째 사람의 키(cm)를 입력하세요: 172\n",
            "5번째 사람의 키(cm)를 입력하세요: 154\n",
            "\n",
            "5명의 평균 키는 169.20cm 입니다.\n"
          ]
        }
      ],
      "source": [
        "heights = []\n",
        "\n",
        "for i in range(5):\n",
        "    height = float(input(f\"{i+1}번째 사람의 키(cm)를 입력하세요: \"))\n",
        "    heights.append(height)\n",
        "\n",
        "average = sum(heights) / len(heights)\n",
        "\n",
        "print(f\"\\n5명의 평균 키는 {average:.2f}cm 입니다.\")"
      ]
    },
    {
      "cell_type": "code",
      "source": [
        "height = float(input(\"당신의 키(cm)를 입력하세요: \"))\n",
        "\n",
        "if height >= 180:\n",
        "    print(\"평균 이상입니다.\")\n",
        "elif height >= 170:\n",
        "    print(\"평균입니다.\")\n",
        "elif height <= 160:\n",
        "    print(\"평균 이하입니다.\")\n",
        "else:\n",
        "    print(\"평균과 평균 이하 사이입니다.\")"
      ],
      "metadata": {
        "colab": {
          "base_uri": "https://localhost:8080/"
        },
        "id": "sb4fzNAG1iXK",
        "outputId": "c0e82270-e6b5-402a-95d9-6c19ed00d3fe"
      },
      "execution_count": 4,
      "outputs": [
        {
          "output_type": "stream",
          "name": "stdout",
          "text": [
            "당신의 키(cm)를 입력하세요: 182\n",
            "평균 이상입니다.\n"
          ]
        }
      ]
    },
    {
      "cell_type": "markdown",
      "source": [
        "**자율주행 관련 센서 입력과 판단 로직 if문 예시**\n",
        "\n"
      ],
      "metadata": {
        "id": "YH77k3cB23NC"
      }
    },
    {
      "cell_type": "code",
      "source": [
        "# 간단한 센서 입력 시뮬레이션\n",
        "front_distance = float(input(\"앞차와의 거리(cm): \"))\n",
        "left_distance = float(input(\"왼쪽 거리(cm): \"))\n",
        "right_distance = float(input(\"오른쪽 거리(cm): \"))\n",
        "\n",
        "# 판단 로직\n",
        "if front_distance > 100:\n",
        "    print(\"전진합니다.\")\n",
        "elif front_distance <= 100 and left_distance > right_distance:\n",
        "    print(\"왼쪽으로 회피합니다.\")\n",
        "elif front_distance <= 100 and right_distance > left_distance:\n",
        "    print(\"오른쪽으로 회피합니다.\")\n",
        "else:\n",
        "    print(\"정지합니다. 모든 방향에 장애물이 있습니다.\")"
      ],
      "metadata": {
        "colab": {
          "base_uri": "https://localhost:8080/"
        },
        "id": "nxxUCVNG3AYa",
        "outputId": "32f0d922-06c3-4481-a08b-af53d5e7d302"
      },
      "execution_count": 6,
      "outputs": [
        {
          "output_type": "stream",
          "name": "stdout",
          "text": [
            "앞차와의 거리(cm): 100\n",
            "왼쪽 거리(cm): 50\n",
            "오른쪽 거리(cm): 20\n",
            "왼쪽으로 회피합니다.\n"
          ]
        }
      ]
    },
    {
      "cell_type": "markdown",
      "source": [
        "front_distance\t앞에 있는 차량 또는 장애물과의 거리  \n",
        "\n",
        "left_distance\t왼쪽 공간의 거리  \n",
        "\n",
        "right_distance\t오른쪽 공간의 거리  \n",
        "\n",
        "\n",
        "---\n",
        "\n",
        "\n",
        "*   사용자에게 앞차와의 거리를 입력받는다.\n",
        "*   float()로 감싸서 소수점 거리까지 입력 가능하게 한다.\n",
        "*   정리: 판단 로직 흐름도\n",
        "```\n",
        "      앞이 충분히 넓다 → 전진\n",
        "      앞이 막혀 있고, 왼쪽 > 오른쪽 → 왼쪽 회피\n",
        "                      오른쪽 > 왼쪽 → 오른쪽 회피\n",
        "      둘 다 좁거나 같음 → 정지\n",
        "```\n"
      ],
      "metadata": {
        "id": "eTE2EmYb7Key"
      }
    },
    {
      "cell_type": "markdown",
      "source": [
        "**자율주행 신호등 색깔 입력과 판단 로직 if문 예시**"
      ],
      "metadata": {
        "id": "E0SMe50t35Ra"
      }
    },
    {
      "cell_type": "code",
      "source": [
        "# 사용자에게 신호등 색깔 입력 받기\n",
        "signal = input(\"신호등 색깔을 입력하세요 (빨강/노랑/초록): \").strip()\n",
        "\n",
        "# 소문자 변환으로 대소문자 대응 (예: 초록, 초록색, Green 등)\n",
        "signal = signal.lower()\n",
        "\n",
        "# 판단 로직\n",
        "if signal in [\"빨강\", \"red\"]:\n",
        "    print(\"정지하세요.\")\n",
        "elif signal in [\"노랑\", \"yellow\"]:\n",
        "    print(\"주의하면서 서행하세요.\")\n",
        "elif signal in [\"초록\", \"green\"]:\n",
        "    print(\"진행하세요.\")\n",
        "else:\n",
        "    print(\"인식할 수 없는 신호입니다.\")"
      ],
      "metadata": {
        "colab": {
          "base_uri": "https://localhost:8080/"
        },
        "id": "X_r_cxYw3_vK",
        "outputId": "b4a31afe-cf95-4140-e133-cebdaae69fda"
      },
      "execution_count": 7,
      "outputs": [
        {
          "output_type": "stream",
          "name": "stdout",
          "text": [
            "신호등 색깔을 입력하세요 (빨강/노랑/초록): 초록\n",
            "진행하세요.\n"
          ]
        }
      ]
    },
    {
      "cell_type": "markdown",
      "source": [
        "\n",
        "\n",
        "*   사용자로부터 신호등 색을 문자열로 입력받는다.\n",
        "*   strip()은 앞뒤 공백 제거 → \" 빨강 \" → \"빨강\"\n",
        "*   입력받은 문자열을 소문자로 통일한다.\n",
        "    예: \"Red\", \"RED\" → \"red\"\n",
        "*   한국어도 lower 처리는 되지만 대부분 변화가 없다.\n"
      ],
      "metadata": {
        "id": "9lW2Z_KQ8zV7"
      }
    },
    {
      "cell_type": "markdown",
      "source": [
        "**자율주행 차선이탈 판단 로직 if문 예시**"
      ],
      "metadata": {
        "id": "HrSb5qP84Rx6"
      }
    },
    {
      "cell_type": "code",
      "source": [
        "# 차선 중심으로부터의 거리 입력 받기 (단위: cm)\n",
        "distance_from_center = float(input(\"차선 중심으로부터 얼마나 벗어났나요? (cm): \"))\n",
        "\n",
        "# 기준 거리 설정\n",
        "threshold = 30  # 30cm 이상 벗어나면 이탈로 판단\n",
        "\n",
        "# 판단 로직\n",
        "if abs(distance_from_center) > threshold:\n",
        "    print(\"차선 이탈! 경고음을 울립니다.\")\n",
        "else:\n",
        "    print(\"차선을 유지하고 있습니다.\")"
      ],
      "metadata": {
        "colab": {
          "base_uri": "https://localhost:8080/"
        },
        "id": "pmzrNAZ64YCi",
        "outputId": "5a5ae879-d62b-4c68-95fa-c7acf7b6da52"
      },
      "execution_count": 9,
      "outputs": [
        {
          "output_type": "stream",
          "name": "stdout",
          "text": [
            "차선 중심으로부터 얼마나 벗어났나요? (cm): 50\n",
            "차선 이탈! 경고음을 울립니다.\n"
          ]
        }
      ]
    },
    {
      "cell_type": "markdown",
      "source": [
        "*   사용자로부터 차량이 차선 중심에서 얼마나 벗어났는지 거리(cm)를 숫자로 입력받음\n",
        "*   float()을 써서 소수점 단위도 입력 가능하게 함\n",
        "\n",
        "    예: 15.5cm, -32.0cm 등\n",
        "  \n"
      ],
      "metadata": {
        "id": "QR7zYuji9U47"
      }
    }
  ]
}