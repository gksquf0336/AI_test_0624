{
  "nbformat": 4,
  "nbformat_minor": 0,
  "metadata": {
    "colab": {
      "provenance": [],
      "authorship_tag": "ABX9TyMqSDLwoKzIt3L5PF+NGFJY",
      "include_colab_link": true
    },
    "kernelspec": {
      "name": "python3",
      "display_name": "Python 3"
    },
    "language_info": {
      "name": "python"
    }
  },
  "cells": [
    {
      "cell_type": "markdown",
      "metadata": {
        "id": "view-in-github",
        "colab_type": "text"
      },
      "source": [
        "<a href=\"https://colab.research.google.com/github/gksquf0336/AI_test_0624/blob/main/0625_Python3_class%26def.ipynb\" target=\"_parent\"><img src=\"https://colab.research.google.com/assets/colab-badge.svg\" alt=\"Open In Colab\"/></a>"
      ]
    },
    {
      "cell_type": "markdown",
      "source": [
        "# 파이썬 클래스/객체\n",
        "\n",
        "*   객체 지향 프로그래밍 언어.\n",
        "*   Python의 거의 모든 것은 속성과 메서드를 갖춘 객체\n",
        "*   클래스는 객체 생성자나 객체를 만드는 \"청사진\"과 같다."
      ],
      "metadata": {
        "id": "243S3GVjkc2b"
      }
    },
    {
      "cell_type": "code",
      "execution_count": 2,
      "metadata": {
        "id": "mWUI1izKfRmb"
      },
      "outputs": [],
      "source": [
        "class MyClass:\n",
        "  x = 5"
      ]
    },
    {
      "cell_type": "markdown",
      "source": [
        "# __init__() 함수\n",
        "\n",
        "\n",
        "*   클래스의 의미를 이해하려면 내장 __init__() 함수를 이해해야 한다.\n",
        "*   __init__()모든 클래스에는 클래스가 초기화될 때 항상 실행되는 함수가 있다.\n",
        "*   __init__()객체 속성에 값을 할당하거나 객체를 생성할 때 필요한 다른 작업을 수행할 수 있다."
      ],
      "metadata": {
        "id": "zhBT6I07k4rr"
      }
    },
    {
      "cell_type": "code",
      "source": [
        "class Person:\n",
        "  def __init__(self, name, age):\n",
        "    self.name = name\n",
        "    self.age = age\n",
        "\n",
        "p1 = Person(\"John\", 36)\n",
        "\n",
        "print(p1.name)\n",
        "print(p1.age)"
      ],
      "metadata": {
        "colab": {
          "base_uri": "https://localhost:8080/"
        },
        "id": "ujK8JqD6lMJb",
        "outputId": "ce03d752-72b8-4f2b-ca6c-898e8286b0c9"
      },
      "execution_count": 3,
      "outputs": [
        {
          "output_type": "stream",
          "name": "stdout",
          "text": [
            "John\n",
            "36\n"
          ]
        }
      ]
    },
    {
      "cell_type": "markdown",
      "source": [
        "# __str__() 함수\n",
        "\n",
        "*   __str__()함수는 클래스 객체가 문자열로 표현될 때 무엇이 ​​반환되어야 하는지 제어한다.\n",
        "*   함수 __str__()가 설정되지 않으면 객체의 문자열 표현이 반환된다.\n",
        "\n",
        "함수가 없는 객체의 문자열 표현 __str__():"
      ],
      "metadata": {
        "id": "cjlGDyj_lTe7"
      }
    },
    {
      "cell_type": "code",
      "source": [
        "class Person:\n",
        "  def __init__(self, name, age):\n",
        "    self.name = name\n",
        "    self.age = age\n",
        "\n",
        "p1 = Person(\"John\", 36)\n",
        "\n",
        "print(p1)"
      ],
      "metadata": {
        "colab": {
          "base_uri": "https://localhost:8080/"
        },
        "id": "dQy-NBkWlh1b",
        "outputId": "92ffd433-1b49-4b76-d75d-ee8d94d8520a"
      },
      "execution_count": 8,
      "outputs": [
        {
          "output_type": "stream",
          "name": "stdout",
          "text": [
            "<__main__.Person object at 0x7dbf897286d0>\n"
          ]
        }
      ]
    },
    {
      "cell_type": "markdown",
      "source": [
        "다음 함수를 사용한 객체의 문자열 표현 __str__():"
      ],
      "metadata": {
        "id": "BMVXxNuTlw_L"
      }
    },
    {
      "cell_type": "code",
      "source": [
        "class Person:\n",
        "  def __init__(self, name, age):\n",
        "    self.name = name\n",
        "    self.age = age\n",
        "\n",
        "  def __str__(self):\n",
        "    return f\"{self.name}({self.age})\"\n",
        "\n",
        "p1 = Person(\"John\", 36)\n",
        "\n",
        "print(p1)"
      ],
      "metadata": {
        "colab": {
          "base_uri": "https://localhost:8080/"
        },
        "id": "oTITc2FYl0iL",
        "outputId": "2d16b85b-50c5-44ce-9692-79c43aba3d18"
      },
      "execution_count": 9,
      "outputs": [
        {
          "output_type": "stream",
          "name": "stdout",
          "text": [
            "John(36)\n"
          ]
        }
      ]
    },
    {
      "cell_type": "markdown",
      "source": [
        "# 객체 메서드\n",
        "\n",
        "*   객체는 메서드를 포함할 수도 있다.\n",
        "*   객체의 메서드는 객체에 속하는 함수"
      ],
      "metadata": {
        "id": "3AqHhN01mCED"
      }
    },
    {
      "cell_type": "code",
      "source": [
        "class Person:\n",
        "  def __init__(self, name, age):\n",
        "    self.name = name\n",
        "    self.age = age\n",
        "\n",
        "  def myfunc(self):\n",
        "    print(\"Hello my name is \" + self.name)\n",
        "\n",
        "p1 = Person(\"John\", 36)\n",
        "p1.myfunc()"
      ],
      "metadata": {
        "colab": {
          "base_uri": "https://localhost:8080/"
        },
        "id": "v_X32E6PmR0D",
        "outputId": "59550f76-eb67-4441-ad3c-e35d0d974a69"
      },
      "execution_count": 10,
      "outputs": [
        {
          "output_type": "stream",
          "name": "stdout",
          "text": [
            "Hello my name is John\n"
          ]
        }
      ]
    },
    {
      "cell_type": "markdown",
      "source": [
        "# 자기 매개변수\n",
        "\n",
        "*   자기 매개변수는 클래스의 현재 인스턴스에 대한 참조이며, 클래스에 속한 변수에 액세스하는 데 사용된다.\n",
        "*   꼭 이름을 지을 필요는 없다.\n",
        "*   클래스의 모든 함수의 첫 번째 매개변수여야 한다.\n"
      ],
      "metadata": {
        "id": "kuLOGj-QmWTD"
      }
    },
    {
      "cell_type": "code",
      "source": [
        "class Person:\n",
        "  def __init__(mysillyobject, name, age):\n",
        "    mysillyobject.name = name\n",
        "    mysillyobject.age = age\n",
        "\n",
        "  def myfunc(abc):\n",
        "    print(\"Hello my name is \" + abc.name)\n",
        "\n",
        "p1 = Person(\"John\", 36)\n",
        "p1.myfunc()"
      ],
      "metadata": {
        "colab": {
          "base_uri": "https://localhost:8080/"
        },
        "id": "nX7ucQJFmsNL",
        "outputId": "11e94faa-6183-4c8f-ad09-db98ab47e8f4"
      },
      "execution_count": 11,
      "outputs": [
        {
          "output_type": "stream",
          "name": "stdout",
          "text": [
            "Hello my name is John\n"
          ]
        }
      ]
    },
    {
      "cell_type": "code",
      "source": [
        "# 개체 삭제 키워드를 사용하여 객체나 객체의 속성을 삭제할 수 있다. - del\n",
        "del p1\n",
        "\n",
        "# class정의는 비어 있을 수 없지만, 어떤 이유로든 class내용이 없는 정의가 있는 경우에는 pass오류를 방지하기 위해 명령문에 해당 내용을 넣어야 한다.\n",
        "\n",
        "class Person:\n",
        "  pass"
      ],
      "metadata": {
        "id": "Hd9NINyjmv4D"
      },
      "execution_count": 13,
      "outputs": []
    },
    {
      "cell_type": "markdown",
      "source": [
        "# 인수\n",
        "*  정보는 인수로 함수에 전달될 수 있다.\n",
        "*  인수는 함수 이름 뒤 괄호 안에 지정.\n",
        "*  인수는 원하는 만큼 추가할 수 있으며, 쉼표로 구분하면 됩니다."
      ],
      "metadata": {
        "id": "7eluiOjguBZ2"
      }
    },
    {
      "cell_type": "code",
      "source": [
        "def my_function(fname):\n",
        "  print(fname + \" Refsnes\")\n",
        "\n",
        "my_function(\"Emil\")\n",
        "my_function(\"Tobias\")\n",
        "my_function(\"Linus\")"
      ],
      "metadata": {
        "colab": {
          "base_uri": "https://localhost:8080/"
        },
        "id": "1qviyjYYuJed",
        "outputId": "1c9c4ee3-98c7-40b0-a366-43ef447eeab4"
      },
      "execution_count": 14,
      "outputs": [
        {
          "output_type": "stream",
          "name": "stdout",
          "text": [
            "Emil Refsnes\n",
            "Tobias Refsnes\n",
            "Linus Refsnes\n"
          ]
        }
      ]
    },
    {
      "cell_type": "markdown",
      "source": [
        "# 인수의 수\n",
        "* 기본적으로 함수는 올바른 개수의 인수로 호출해야 한다.\n",
        "*  즉, 함수가 두 개의 인수를 기대한다면, 두 개 이상도, 그 이하도 아닌 두 개의 인수로 함수를 호출해야 한다."
      ],
      "metadata": {
        "id": "-nF1tLmJuXod"
      }
    },
    {
      "cell_type": "code",
      "source": [
        "def my_function(fname, lname):\n",
        "  print(fname + \" \" + lname)\n",
        "\n",
        "my_function(\"Emil\", \"Refsnes\")"
      ],
      "metadata": {
        "colab": {
          "base_uri": "https://localhost:8080/"
        },
        "id": "jv4yFNjPuS9V",
        "outputId": "77566f9d-09b7-4061-ebb4-e93d6988cafa"
      },
      "execution_count": 15,
      "outputs": [
        {
          "output_type": "stream",
          "name": "stdout",
          "text": [
            "Emil Refsnes\n"
          ]
        }
      ]
    },
    {
      "cell_type": "markdown",
      "source": [
        "1. 두 숫자의 합을 반환하는 함수"
      ],
      "metadata": {
        "id": "ViWlF12Ew8x1"
      }
    },
    {
      "cell_type": "code",
      "source": [
        "def add(a, b):\n",
        "    return a + b\n",
        "\n",
        "# 사용 예\n",
        "result = add(3, 5)\n",
        "print(\"결과:\", result)  # 출력: 결과: 8"
      ],
      "metadata": {
        "id": "t8bcx5e2w8G7"
      },
      "execution_count": null,
      "outputs": []
    },
    {
      "cell_type": "markdown",
      "source": [
        "2. 짝수/홀수를 판별하는 함수"
      ],
      "metadata": {
        "id": "ObrWtVdsxB1O"
      }
    },
    {
      "cell_type": "code",
      "source": [
        "def is_even(number):\n",
        "    if number % 2 == 0:\n",
        "        return True\n",
        "    else:\n",
        "        return False\n",
        "\n",
        "# 사용 예\n",
        "print(is_even(4))  # True\n",
        "print(is_even(7))  # False"
      ],
      "metadata": {
        "id": "hP0cT1csw_-1"
      },
      "execution_count": null,
      "outputs": []
    },
    {
      "cell_type": "markdown",
      "source": [
        "3. 인사말 출력 함수"
      ],
      "metadata": {
        "id": "nVFcKJEExFMG"
      }
    },
    {
      "cell_type": "code",
      "source": [
        "def greet(name):\n",
        "    print(f\"안녕하세요, {name}님!\")\n",
        "\n",
        "# 사용 예\n",
        "greet(\"하나\")  # 출력: 안녕하세요, 하나님!"
      ],
      "metadata": {
        "id": "Sh3v6dOPxHiW"
      },
      "execution_count": null,
      "outputs": []
    },
    {
      "cell_type": "markdown",
      "source": [
        "✅ 1. 센서 범위 상수 정의 (define 대체)"
      ],
      "metadata": {
        "id": "ME5flD3fujtl"
      }
    },
    {
      "cell_type": "code",
      "source": [
        "# constants\n",
        "LIDAR_RANGE = 100  # meters\n",
        "CAMERA_FOV = 120   # degrees\n",
        "SAFE_DISTANCE = 10  # meters\n",
        "\n",
        "# main\n",
        "# from constants import SAFE_DISTANCE\n",
        "\n",
        "def check_collision(distance_to_object):\n",
        "    if distance_to_object < SAFE_DISTANCE:\n",
        "        print(\"경고: 충돌 위험!\")\n"
      ],
      "metadata": {
        "id": "bpKAikUavIHV"
      },
      "execution_count": 23,
      "outputs": []
    },
    {
      "cell_type": "markdown",
      "source": [
        "✅ 2. 속도 제한을 위한 상수 및 판단 함수 정의"
      ],
      "metadata": {
        "id": "DUJse_pxvMul"
      }
    },
    {
      "cell_type": "code",
      "source": [
        "MAX_SPEED = 80  # km/h\n",
        "\n",
        "def is_speeding(current_speed):\n",
        "    return current_speed > MAX_SPEED\n",
        "\n",
        "# 사용 예\n",
        "speed = 90\n",
        "if is_speeding(speed):\n",
        "    print(\"속도 위반!\")"
      ],
      "metadata": {
        "colab": {
          "base_uri": "https://localhost:8080/"
        },
        "id": "rk7qF_99vJml",
        "outputId": "c84063bd-75f3-43b1-d657-53caa25f6809"
      },
      "execution_count": 17,
      "outputs": [
        {
          "output_type": "stream",
          "name": "stdout",
          "text": [
            "속도 위반!\n"
          ]
        }
      ]
    },
    {
      "cell_type": "markdown",
      "source": [
        "✅ 3. 차선 유지 보조 시스템 (LKAS) 임계값 설정"
      ],
      "metadata": {
        "id": "Nzxr6aTEvbN9"
      }
    },
    {
      "cell_type": "code",
      "source": [
        "LANE_OFFSET_THRESHOLD_CM = 30  # define처럼 사용하는 상수\n",
        "\n",
        "def check_lane_departure(offset_cm):\n",
        "    if abs(offset_cm) > LANE_OFFSET_THRESHOLD_CM:\n",
        "        print(\"차선 이탈! 경고음을 울립니다.\")\n",
        "    else:\n",
        "        print(\"정상 주행 중입니다.\")"
      ],
      "metadata": {
        "id": "QCVEWceTvcF1"
      },
      "execution_count": 21,
      "outputs": []
    },
    {
      "cell_type": "markdown",
      "source": [
        "✅ 4. 신호 인식 매핑 (define처럼 역할 매핑)"
      ],
      "metadata": {
        "id": "-4XYnYFWvn59"
      }
    },
    {
      "cell_type": "code",
      "source": [
        "# define 스타일로 딕셔너리 사용\n",
        "TRAFFIC_LIGHT = {\n",
        "    \"RED\": 0,\n",
        "    \"YELLOW\": 1,\n",
        "    \"GREEN\": 2\n",
        "}\n",
        "\n",
        "current_light = TRAFFIC_LIGHT[\"RED\"]\n",
        "\n",
        "if current_light == TRAFFIC_LIGHT[\"RED\"]:\n",
        "    print(\"정지!\")"
      ],
      "metadata": {
        "colab": {
          "base_uri": "https://localhost:8080/"
        },
        "id": "OWuLcrrkvoaV",
        "outputId": "bc516df8-549f-4087-f1bc-c893d7a4aa35"
      },
      "execution_count": 24,
      "outputs": [
        {
          "output_type": "stream",
          "name": "stdout",
          "text": [
            "정지!\n"
          ]
        }
      ]
    },
    {
      "cell_type": "markdown",
      "source": [
        "✅ 5. 자동 긴급제동 시스템 (AEB) 조건 정의"
      ],
      "metadata": {
        "id": "_22T7ZIGvq7N"
      }
    },
    {
      "cell_type": "code",
      "source": [
        "AEB_DISTANCE_THRESHOLD = 5.0  # meters\n",
        "AEB_SPEED_THRESHOLD = 20.0    # km/h\n",
        "\n",
        "def should_trigger_aeb(distance, speed):\n",
        "    return distance < AEB_DISTANCE_THRESHOLD and speed > AEB_SPEED_THRESHOLD\n",
        "\n",
        "# 예시 사용\n",
        "if should_trigger_aeb(distance=4.2, speed=30.0):\n",
        "    print(\"AEB 작동: 자동 제동!\")\n"
      ],
      "metadata": {
        "colab": {
          "base_uri": "https://localhost:8080/"
        },
        "id": "z7hRkJEqvswN",
        "outputId": "a62baef4-694d-4a6d-ad1c-5e5def58f5a6"
      },
      "execution_count": 25,
      "outputs": [
        {
          "output_type": "stream",
          "name": "stdout",
          "text": [
            "AEB 작동: 자동 제동!\n"
          ]
        }
      ]
    }
  ]
}