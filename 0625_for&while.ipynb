{
  "nbformat": 4,
  "nbformat_minor": 0,
  "metadata": {
    "colab": {
      "provenance": [],
      "authorship_tag": "ABX9TyP3KN36jUDzdFkC2SvmCIW6",
      "include_colab_link": true
    },
    "kernelspec": {
      "name": "python3",
      "display_name": "Python 3"
    },
    "language_info": {
      "name": "python"
    }
  },
  "cells": [
    {
      "cell_type": "markdown",
      "metadata": {
        "id": "view-in-github",
        "colab_type": "text"
      },
      "source": [
        "<a href=\"https://colab.research.google.com/github/gksquf0336/AI_test_0624/blob/main/0625_for%26while.ipynb\" target=\"_parent\"><img src=\"https://colab.research.google.com/assets/colab-badge.svg\" alt=\"Open In Colab\"/></a>"
      ]
    },
    {
      "cell_type": "markdown",
      "source": [
        "# 파이썬 For 루프\n",
        "*  for 루프 는 시퀀스(리스트, 튜플, 사전, 집합 또는 문자열)를 반복하는 데 사용\n",
        "*  다른 프로그래밍 언어의 for 키워드와 비슷하며 , 다른 객체 지향 프로그래밍 언어에서 볼 수 있는 반복자 메서드와 더 비슷하게 작동\n",
        "*  for 루프를 사용하면 목록, 튜플, 집합 등의 각 항목에 대해 한 번씩 명령문을 실행할 수 있습니다."
      ],
      "metadata": {
        "id": "vWjydPDe8g1Y"
      }
    },
    {
      "cell_type": "code",
      "execution_count": 1,
      "metadata": {
        "colab": {
          "base_uri": "https://localhost:8080/"
        },
        "id": "CSKf7mYD8XZ3",
        "outputId": "790000ab-0e52-4c82-8c9c-e8385f6d2638"
      },
      "outputs": [
        {
          "output_type": "stream",
          "name": "stdout",
          "text": [
            "apple\n",
            "banana\n",
            "cherry\n"
          ]
        }
      ],
      "source": [
        "fruits = [\"apple\", \"banana\", \"cherry\"]\n",
        "for x in fruits:\n",
        "  print(x)"
      ]
    },
    {
      "cell_type": "markdown",
      "source": [
        "# 문자열 반복\n",
        "*  문자열도 반복 가능한 객체이며, 문자열에는 문자 시퀀스가 ​​포함된다."
      ],
      "metadata": {
        "id": "XnZ1Ssn882AA"
      }
    },
    {
      "cell_type": "code",
      "source": [
        "for x in \"banana\":\n",
        "  print(x)"
      ],
      "metadata": {
        "colab": {
          "base_uri": "https://localhost:8080/"
        },
        "id": "9t4CdUj588OX",
        "outputId": "fe7b8dfa-0d09-4c9e-ed7b-4d452e1d145f"
      },
      "execution_count": 2,
      "outputs": [
        {
          "output_type": "stream",
          "name": "stdout",
          "text": [
            "b\n",
            "a\n",
            "n\n",
            "a\n",
            "n\n",
            "a\n"
          ]
        }
      ]
    },
    {
      "cell_type": "markdown",
      "source": [
        "# break 문\n",
        "* break 문을 사용하면 모든 항목을 반복하기 전에 루프를 중지할 수 있다."
      ],
      "metadata": {
        "id": "L3Cp70A_9Co3"
      }
    },
    {
      "cell_type": "code",
      "source": [
        "fruits = [\"apple\", \"banana\", \"cherry\"]\n",
        "for x in fruits:\n",
        "  print(x)\n",
        "  if x == \"banana\":\n",
        "    break"
      ],
      "metadata": {
        "colab": {
          "base_uri": "https://localhost:8080/"
        },
        "id": "wNEmJMAI9DMP",
        "outputId": "dca9e43c-1ab0-4d14-d718-4ccb869d3f92"
      },
      "execution_count": 3,
      "outputs": [
        {
          "output_type": "stream",
          "name": "stdout",
          "text": [
            "apple\n",
            "banana\n"
          ]
        }
      ]
    },
    {
      "cell_type": "code",
      "source": [
        "fruits = [\"apple\", \"banana\", \"cherry\"]\n",
        "for x in fruits:\n",
        "  if x == \"banana\":\n",
        "    break\n",
        "  print(x)"
      ],
      "metadata": {
        "colab": {
          "base_uri": "https://localhost:8080/"
        },
        "id": "dKnzsCc19L5_",
        "outputId": "a612fae5-e43c-4281-eb19-d0c4ea2dcf3b"
      },
      "execution_count": 7,
      "outputs": [
        {
          "output_type": "stream",
          "name": "stdout",
          "text": [
            "apple\n"
          ]
        }
      ]
    },
    {
      "cell_type": "markdown",
      "source": [
        "# continue 문\n",
        "*  continue 문을 사용하면 루프의 현재 반복을 중지하고 다음 반복을 계속할 수 있다."
      ],
      "metadata": {
        "id": "SSd_YXjm87un"
      }
    },
    {
      "cell_type": "code",
      "source": [
        "fruits = [\"apple\", \"banana\", \"cherry\"]\n",
        "for x in fruits:\n",
        "  if x == \"banana\":\n",
        "    continue\n",
        "  print(x)"
      ],
      "metadata": {
        "colab": {
          "base_uri": "https://localhost:8080/"
        },
        "id": "YajLD5dT9JN3",
        "outputId": "260089f8-08b8-4c36-d2b6-4de1279b7fd6"
      },
      "execution_count": 8,
      "outputs": [
        {
          "output_type": "stream",
          "name": "stdout",
          "text": [
            "apple\n",
            "cherry\n"
          ]
        }
      ]
    },
    {
      "cell_type": "markdown",
      "source": [
        "# range() 함수\n",
        "*  지정된 횟수만큼 코드 세트를 반복하려면 range() 함수를 사용할 수 있다.\n",
        "*  range () 함수는 기본적으로 0부터 시작하여 1씩 증가(기본값)하고 지정된 숫자에서 끝나는 숫자 시퀀스를 반환한다."
      ],
      "metadata": {
        "id": "LePHY2OQ9Xzn"
      }
    },
    {
      "cell_type": "code",
      "source": [
        "for x in range(6):\n",
        "  print(x)"
      ],
      "metadata": {
        "colab": {
          "base_uri": "https://localhost:8080/"
        },
        "id": "anyTuvxy9ffn",
        "outputId": "b20c46bf-8049-4fc9-92cc-6d13ddee5cc7"
      },
      "execution_count": 9,
      "outputs": [
        {
          "output_type": "stream",
          "name": "stdout",
          "text": [
            "0\n",
            "1\n",
            "2\n",
            "3\n",
            "4\n",
            "5\n"
          ]
        }
      ]
    },
    {
      "cell_type": "code",
      "source": [
        "for x in range(2, 6):\n",
        "  print(x)"
      ],
      "metadata": {
        "colab": {
          "base_uri": "https://localhost:8080/"
        },
        "id": "920UdlJp9lEI",
        "outputId": "ca652a97-5765-44d0-eabc-8fe3301bb0e5"
      },
      "execution_count": 10,
      "outputs": [
        {
          "output_type": "stream",
          "name": "stdout",
          "text": [
            "2\n",
            "3\n",
            "4\n",
            "5\n"
          ]
        }
      ]
    },
    {
      "cell_type": "code",
      "source": [
        "for x in range(2, 30, 3):\n",
        "  print(x)"
      ],
      "metadata": {
        "colab": {
          "base_uri": "https://localhost:8080/"
        },
        "id": "eMN7ZfDe9nUY",
        "outputId": "f37262d8-0239-4339-a050-6957ecafd84d"
      },
      "execution_count": 11,
      "outputs": [
        {
          "output_type": "stream",
          "name": "stdout",
          "text": [
            "2\n",
            "5\n",
            "8\n",
            "11\n",
            "14\n",
            "17\n",
            "20\n",
            "23\n",
            "26\n",
            "29\n"
          ]
        }
      ]
    },
    {
      "cell_type": "markdown",
      "source": [
        "# For 루프의 Else\n",
        "*  else루프 의 키워드는 루프 for가 완료될 때 실행될 코드 블록을 지정한다"
      ],
      "metadata": {
        "id": "0uMo700N9q2g"
      }
    },
    {
      "cell_type": "code",
      "source": [
        "# 0부터 5까지의 모든 숫자를 출력하고, 루프가 끝나면 메시지를 출력.\n",
        "\n",
        "for x in range(6):\n",
        "  print(x)\n",
        "else:\n",
        "  print(\"Finally finished!\")"
      ],
      "metadata": {
        "colab": {
          "base_uri": "https://localhost:8080/"
        },
        "id": "VP_x5Yb-9uHY",
        "outputId": "c99cf675-d4bd-4335-d28b-4b4b00016519"
      },
      "execution_count": 13,
      "outputs": [
        {
          "output_type": "stream",
          "name": "stdout",
          "text": [
            "0\n",
            "1\n",
            "2\n",
            "3\n",
            "4\n",
            "5\n",
            "Finally finished!\n"
          ]
        }
      ]
    },
    {
      "cell_type": "code",
      "source": [
        "for x in range(6):\n",
        "  if x == 3: break\n",
        "  print(x)\n",
        "else:\n",
        "  print(\"Finally finished!\")"
      ],
      "metadata": {
        "colab": {
          "base_uri": "https://localhost:8080/"
        },
        "id": "quFY4XRK93JX",
        "outputId": "11d9f2e8-fe17-42f0-ce95-5f4291bed849"
      },
      "execution_count": 14,
      "outputs": [
        {
          "output_type": "stream",
          "name": "stdout",
          "text": [
            "0\n",
            "1\n",
            "2\n"
          ]
        }
      ]
    },
    {
      "cell_type": "markdown",
      "source": [
        "# 중첩 루프\n",
        "*  중첩 루프는 루프 안에 있는 루프\n",
        "*  \"내부 루프\"는 \"외부 루프\"의 각 반복마다 한 번씩 실행된다."
      ],
      "metadata": {
        "id": "kgLyaIKj95pP"
      }
    },
    {
      "cell_type": "code",
      "source": [
        "adj = [\"red\", \"big\", \"tasty\"]\n",
        "fruits = [\"apple\", \"banana\", \"cherry\"]\n",
        "\n",
        "for x in adj:\n",
        "  for y in fruits:\n",
        "    print(x, y)"
      ],
      "metadata": {
        "colab": {
          "base_uri": "https://localhost:8080/"
        },
        "id": "F0_pLK059_I_",
        "outputId": "be508aea-2220-4d4f-b4e5-3158b521f4ee"
      },
      "execution_count": 15,
      "outputs": [
        {
          "output_type": "stream",
          "name": "stdout",
          "text": [
            "red apple\n",
            "red banana\n",
            "red cherry\n",
            "big apple\n",
            "big banana\n",
            "big cherry\n",
            "tasty apple\n",
            "tasty banana\n",
            "tasty cherry\n"
          ]
        }
      ]
    },
    {
      "cell_type": "markdown",
      "source": [
        "# 패스\n",
        "*  for루프는 비어 있을 수 없지만, 어떤 이유로든 for내용이 없는 루프가 있는 경우엔 pass오류를 방지하기 위해 명령문을 넣는다."
      ],
      "metadata": {
        "id": "TosLCkEa-EkA"
      }
    },
    {
      "cell_type": "code",
      "source": [
        "for x in [0, 1, 2]:\n",
        "  pass"
      ],
      "metadata": {
        "id": "mEjtLWcJ-McA"
      },
      "execution_count": 17,
      "outputs": []
    },
    {
      "cell_type": "markdown",
      "source": [
        "✅ 예제 1. 라이더 거리 데이터 분석 – 가까운 장애물 찾기"
      ],
      "metadata": {
        "id": "Uz_o0-VR-gOd"
      }
    },
    {
      "cell_type": "code",
      "source": [
        "lidar_distances = [50, 45, 38, 100, 60, 25, 80]  # 단위: cm\n",
        "\n",
        "for distance in lidar_distances:\n",
        "    if distance < 40:\n",
        "        print(f\"경고! 가까운 장애물 감지: {distance}cm\")\n"
      ],
      "metadata": {
        "colab": {
          "base_uri": "https://localhost:8080/"
        },
        "id": "XstwLyu6-hwI",
        "outputId": "868fa08d-a42c-4a8e-e148-fc75e5cadb24"
      },
      "execution_count": 18,
      "outputs": [
        {
          "output_type": "stream",
          "name": "stdout",
          "text": [
            "경고! 가까운 장애물 감지: 38cm\n",
            "경고! 가까운 장애물 감지: 25cm\n"
          ]
        }
      ]
    },
    {
      "cell_type": "markdown",
      "source": [
        "✅ 예제 2. 차선 중심 기준 거리 리스트 처리"
      ],
      "metadata": {
        "id": "3CEtprs2-oCI"
      }
    },
    {
      "cell_type": "code",
      "source": [
        "lane_offsets = [-5, 0, 3, -32, 8, 40]  # 단위: cm (음수는 왼쪽, 양수는 오른쪽)\n",
        "\n",
        "for offset in lane_offsets:\n",
        "    if abs(offset) > 30:\n",
        "        print(f\"차선 이탈! 중심에서 {offset}cm 벗어남\")\n",
        "    else:\n",
        "        print(f\"정상 주행: 중심에서 {offset}cm 이내\")\n"
      ],
      "metadata": {
        "colab": {
          "base_uri": "https://localhost:8080/"
        },
        "id": "6s8T7ah1-lQw",
        "outputId": "456e7977-8d18-4528-df75-c6fa69f6cc65"
      },
      "execution_count": 19,
      "outputs": [
        {
          "output_type": "stream",
          "name": "stdout",
          "text": [
            "정상 주행: 중심에서 -5cm 이내\n",
            "정상 주행: 중심에서 0cm 이내\n",
            "정상 주행: 중심에서 3cm 이내\n",
            "차선 이탈! 중심에서 -32cm 벗어남\n",
            "정상 주행: 중심에서 8cm 이내\n",
            "차선 이탈! 중심에서 40cm 벗어남\n"
          ]
        }
      ]
    },
    {
      "cell_type": "markdown",
      "source": [
        "✅ 예제 3. 교통 표지판 인식 결과 처리"
      ],
      "metadata": {
        "id": "bdu8hvZg-quo"
      }
    },
    {
      "cell_type": "code",
      "source": [
        "detected_signs = [\"speed_limit_60\", \"stop\", \"yield\", \"speed_limit_30\"]\n",
        "\n",
        "for sign in detected_signs:\n",
        "    if \"speed_limit\" in sign:\n",
        "        speed = sign.split(\"_\")[-1]\n",
        "        print(f\"속도 제한 표지 인식됨: {speed}km/h\")\n",
        "    elif sign == \"stop\":\n",
        "        print(\"정지 표지 인식: 차량 정지 준비\")\n",
        "    elif sign == \"yield\":\n",
        "        print(\"양보 표지 인식: 우선 순위 판단\")\n"
      ],
      "metadata": {
        "colab": {
          "base_uri": "https://localhost:8080/"
        },
        "id": "BqiKTPor-t14",
        "outputId": "bd23f9ac-0b99-40f8-cc5c-a33857dc95de"
      },
      "execution_count": 22,
      "outputs": [
        {
          "output_type": "stream",
          "name": "stdout",
          "text": [
            "속도 제한 표지 인식됨: 60km/h\n",
            "정지 표지 인식: 차량 정지 준비\n",
            "양보 표지 인식: 우선 순위 판단\n",
            "속도 제한 표지 인식됨: 30km/h\n"
          ]
        }
      ]
    },
    {
      "cell_type": "markdown",
      "source": [
        "# while 루프\n",
        "*  while 루프를 사용하면 조건이 참인 동안 일련의 명령문을 실행할 수 있다."
      ],
      "metadata": {
        "id": "HvCPZuHc-1o4"
      }
    },
    {
      "cell_type": "code",
      "source": [
        "i = 1\n",
        "while i < 6:\n",
        "  print(i)\n",
        "  i += 1"
      ],
      "metadata": {
        "colab": {
          "base_uri": "https://localhost:8080/"
        },
        "id": "kwx2xlOg-8jg",
        "outputId": "aee6d071-0191-46dd-b6fc-ecd47017759b"
      },
      "execution_count": 23,
      "outputs": [
        {
          "output_type": "stream",
          "name": "stdout",
          "text": [
            "1\n",
            "2\n",
            "3\n",
            "4\n",
            "5\n"
          ]
        }
      ]
    },
    {
      "cell_type": "markdown",
      "source": [
        "# break 문\n",
        "*  break 문을 사용하면 while 조건이 참이더라도 루프를 중지할 수 있다."
      ],
      "metadata": {
        "id": "ckNle2O8_Aeo"
      }
    },
    {
      "cell_type": "code",
      "source": [
        "i = 1\n",
        "while i < 6:\n",
        "  print(i)\n",
        "  if i == 3:\n",
        "    break\n",
        "  i += 1"
      ],
      "metadata": {
        "colab": {
          "base_uri": "https://localhost:8080/"
        },
        "id": "2MKhSWDu--fg",
        "outputId": "1bf17235-78e0-47c1-fafb-b2c54236facc"
      },
      "execution_count": 24,
      "outputs": [
        {
          "output_type": "stream",
          "name": "stdout",
          "text": [
            "1\n",
            "2\n",
            "3\n"
          ]
        }
      ]
    },
    {
      "cell_type": "markdown",
      "source": [
        "# continue 문\n",
        "*  continue 문을 사용하면 현재 반복을 중지하고 다음 반복을 계속할 수 있다."
      ],
      "metadata": {
        "id": "Xm1NAF1I_FnQ"
      }
    },
    {
      "cell_type": "code",
      "source": [
        "i = 0\n",
        "while i < 6:\n",
        "  i += 1\n",
        "  if i == 3:\n",
        "    continue\n",
        "  print(i)"
      ],
      "metadata": {
        "colab": {
          "base_uri": "https://localhost:8080/"
        },
        "id": "4Www4w3c_Jqo",
        "outputId": "6e8b1435-b31f-4901-86b6-501f25568ea2"
      },
      "execution_count": 25,
      "outputs": [
        {
          "output_type": "stream",
          "name": "stdout",
          "text": [
            "1\n",
            "2\n",
            "4\n",
            "5\n",
            "6\n"
          ]
        }
      ]
    },
    {
      "cell_type": "markdown",
      "source": [
        "# else 문\n",
        "*  else 문을 사용하면 조건이 더 이상 참이 아닐 때 코드 블록을 한 번 실행할 수 있다."
      ],
      "metadata": {
        "id": "ylF65zgv_Lrw"
      }
    },
    {
      "cell_type": "code",
      "source": [
        "i = 1\n",
        "while i < 6:\n",
        "  print(i)\n",
        "  i += 1\n",
        "else:\n",
        "  print(\"i is no longer less than 6\")"
      ],
      "metadata": {
        "colab": {
          "base_uri": "https://localhost:8080/"
        },
        "id": "OEfpiVmb_Pd4",
        "outputId": "28e8e7cb-869d-46b8-a1f7-543e255d5f58"
      },
      "execution_count": 27,
      "outputs": [
        {
          "output_type": "stream",
          "name": "stdout",
          "text": [
            "1\n",
            "2\n",
            "3\n",
            "4\n",
            "5\n",
            "i is no longer less than 6\n"
          ]
        }
      ]
    },
    {
      "cell_type": "markdown",
      "source": [
        "✅ 예제 1. 배터리 잔량이 충분할 때까지 주행"
      ],
      "metadata": {
        "id": "KVfQjI8Q_fmV"
      }
    },
    {
      "cell_type": "code",
      "source": [
        "battery = 100  # 초기 배터리 잔량 (%)\n",
        "\n",
        "while battery > 20:\n",
        "    print(f\"주행 중... 배터리: {battery}%\")\n",
        "    battery -= 15  # 주행 중 배터리 소모\n",
        "\n",
        "print(\"배터리 부족! 충전소로 이동합니다.\")\n"
      ],
      "metadata": {
        "colab": {
          "base_uri": "https://localhost:8080/"
        },
        "id": "AJyE9fmN_f9Q",
        "outputId": "08143c6d-bf6b-4665-a7e7-89c68bdc866f"
      },
      "execution_count": 28,
      "outputs": [
        {
          "output_type": "stream",
          "name": "stdout",
          "text": [
            "주행 중... 배터리: 100%\n",
            "주행 중... 배터리: 85%\n",
            "주행 중... 배터리: 70%\n",
            "주행 중... 배터리: 55%\n",
            "주행 중... 배터리: 40%\n",
            "주행 중... 배터리: 25%\n",
            "배터리 부족! 충전소로 이동합니다.\n"
          ]
        }
      ]
    },
    {
      "cell_type": "markdown",
      "source": [
        "✅ 예제 2. 충돌 감지 시까지 전방 거리 감시"
      ],
      "metadata": {
        "id": "QA2SpsRU_jLg"
      }
    },
    {
      "cell_type": "code",
      "source": [
        "import random\n",
        "\n",
        "distance_to_object = 100  # 초기 거리 (cm)\n",
        "\n",
        "while distance_to_object > 10:\n",
        "    print(f\"전방 거리: {distance_to_object}cm - 계속 주행\")\n",
        "    distance_to_object -= random.randint(5, 15)  # 객체 접근\n",
        "\n",
        "print(\"충돌 위험! 정지!\")\n"
      ],
      "metadata": {
        "colab": {
          "base_uri": "https://localhost:8080/"
        },
        "id": "h0dnE0vh_lRo",
        "outputId": "b92e1cb2-dd42-400b-f443-3074c7a0dc09"
      },
      "execution_count": 29,
      "outputs": [
        {
          "output_type": "stream",
          "name": "stdout",
          "text": [
            "전방 거리: 100cm - 계속 주행\n",
            "전방 거리: 92cm - 계속 주행\n",
            "전방 거리: 84cm - 계속 주행\n",
            "전방 거리: 73cm - 계속 주행\n",
            "전방 거리: 60cm - 계속 주행\n",
            "전방 거리: 45cm - 계속 주행\n",
            "전방 거리: 37cm - 계속 주행\n",
            "전방 거리: 29cm - 계속 주행\n",
            "전방 거리: 18cm - 계속 주행\n",
            "충돌 위험! 정지!\n"
          ]
        }
      ]
    },
    {
      "cell_type": "markdown",
      "source": [
        "✅ 예제 3. 차선을 벗어날 때까지 중앙 유지 확인"
      ],
      "metadata": {
        "id": "7oly4Cbr_ogQ"
      }
    },
    {
      "cell_type": "code",
      "source": [
        "offset = 0  # 차선 중심과의 거리 (cm)\n",
        "\n",
        "while abs(offset) <= 30:\n",
        "    print(f\"차선 유지 중: 중심에서 {offset}cm\")\n",
        "    offset += 5  # 점점 한쪽으로 치우침\n",
        "\n",
        "print(f\"차선 이탈! 중심에서 {offset}cm 벗어남 - 경고 발생\")\n"
      ],
      "metadata": {
        "colab": {
          "base_uri": "https://localhost:8080/"
        },
        "id": "DL8l2qd0_m1I",
        "outputId": "4feb7414-abd9-4c19-9181-7e8e448ed993"
      },
      "execution_count": 30,
      "outputs": [
        {
          "output_type": "stream",
          "name": "stdout",
          "text": [
            "차선 유지 중: 중심에서 0cm\n",
            "차선 유지 중: 중심에서 5cm\n",
            "차선 유지 중: 중심에서 10cm\n",
            "차선 유지 중: 중심에서 15cm\n",
            "차선 유지 중: 중심에서 20cm\n",
            "차선 유지 중: 중심에서 25cm\n",
            "차선 유지 중: 중심에서 30cm\n",
            "차선 이탈! 중심에서 35cm 벗어남 - 경고 발생\n"
          ]
        }
      ]
    }
  ]
}